{
 "cells": [
  {
   "cell_type": "markdown",
   "metadata": {},
   "source": [
    "Framework for making a input catalog...\n",
    "\n",
    "1) read in a csv file of objects\n",
    "\n",
    "2) call tess_ephem for each object to see if it has been observed by TESS\n",
    "\n",
    "3) if it has, summarize the TESS info\n",
    "\n",
    "4) output two files...  one lists all the bodies searched, the other is a catalog of the objects observed by TESS"
   ]
  },
  {
   "cell_type": "markdown",
   "metadata": {},
   "source": [
    "This version has an additional loop to generate large catalogs by chunks rather than all at one go."
   ]
  },
  {
   "cell_type": "code",
   "execution_count": 1,
   "metadata": {},
   "outputs": [],
   "source": [
    "from tess_ephem import ephem\n",
    "import numpy as np\n",
    "from astropy.time import Time\n",
    "import pandas as pd\n",
    "from itertools import repeat\n",
    "from datetime import datetime\n",
    "import math\n",
    "from time import sleep\n",
    "from tqdm import notebook"
   ]
  },
  {
   "cell_type": "markdown",
   "metadata": {},
   "source": [
    "Starting with a list made by doing a search in Horizons small body search interface  (https://ssd.jpl.nasa.gov/sbdb_query.cgi). I don't see any documentation for an API, so you have to select the outputs manually.  To start, I've got the following columns:  PDE, full_name, a, e, i om, w, q, ad, per_y, condition_code, H, rot_per, class.  Whether or not these are the right columns is totally tbd!  Note, currently as long as the input list as a column for primary designation (pdes), the code will work.  The output catalog will just copy over any additional input columns into the output catalog"
   ]
  },
  {
   "cell_type": "markdown",
   "metadata": {},
   "source": [
    "The current catalog returns a line for every unique combination of asteroid and sector.  (In otherwords, if an asteroid is present in multiple sectors, it will have multiple lines.)\n",
    "\n",
    "Things to check -- do we need to do the same for cameras?  (Right now the code largely assumes that there is only one camera involved, but it does output the number of cameras (and ccds), so we can check this assumption and revisit later on."
   ]
  },
  {
   "cell_type": "code",
   "execution_count": 2,
   "metadata": {},
   "outputs": [
    {
     "name": "stdout",
     "output_type": "stream",
     "text": [
      "now = 11:09:42.328471\n"
     ]
    }
   ],
   "source": [
    "# Want to see how long this all takes...\n",
    "now = datetime.now().time() # time object\n",
    "print(\"now =\", now)"
   ]
  },
  {
   "cell_type": "code",
   "execution_count": 7,
   "metadata": {},
   "outputs": [
    {
     "name": "stderr",
     "output_type": "stream",
     "text": [
      "/opt/anaconda3/lib/python3.8/site-packages/IPython/core/interactiveshell.py:3071: DtypeWarning: Columns (0,10,17,20,21) have mixed types.Specify dtype option on import or set low_memory=False.\n",
      "  has_raised = await self.run_ast_nodes(code_ast.body, cell_name,\n"
     ]
    },
    {
     "data": {
      "text/plain": [
       "99"
      ]
     },
     "execution_count": 7,
     "metadata": {},
     "output_type": "execute_result"
    }
   ],
   "source": [
    "master_list = pd.read_csv(\"horizons_2020_12_15.csv\") \n",
    "master_list = pd.read_csv(\"shortishlist.csv\")  #short list for testing\n",
    "num_asteroids = master_list.shape[0]\n",
    "num_asteroids"
   ]
  },
  {
   "cell_type": "code",
   "execution_count": 8,
   "metadata": {},
   "outputs": [
    {
     "data": {
      "text/plain": [
       "Index(['pdes', 'full_name', 'a', 'e', 'i', 'om', 'w', 'q', 'ad', 'per_y',\n",
       "       'condition_code', 'class', 'H', 'H_sigma', 'G', 'diameter',\n",
       "       'diameter_sigma', 'extent', 'albedo', 'rot_per', 'spec_B', 'spec_T'],\n",
       "      dtype='object')"
      ]
     },
     "execution_count": 8,
     "metadata": {},
     "output_type": "execute_result"
    }
   ],
   "source": [
    "master_list.columns"
   ]
  },
  {
   "cell_type": "code",
   "execution_count": 9,
   "metadata": {},
   "outputs": [],
   "source": [
    "# first off, a function that takes in tess_ephem output, asteroid info, and returns a one row data frame with results\n",
    "\n",
    "def make_catalog_entry(ephem, asteroid):\n",
    "    #calc values of interest\n",
    "    num_of_days = ephem.shape[0]\n",
    "    asteroid[\"num_of_days\"] = num_of_days\n",
    "    asteroid[\"sector\"] = ephem.sector[0]\n",
    "    asteroid[\"num_cameras\"] = ephem.camera.nunique()\n",
    "    asteroid[\"camera\"] = ephem.camera[0]\n",
    "    asteroid[\"num_ccd\"] = ephem.ccd.nunique()\n",
    "    asteroid[\"first_day\"] = Time(ephem.index).jd[0] - 2457000  #constant is to conver to \"TESS JD\"\n",
    "    asteroid[\"first_ccd\"] = ephem.ccd[0]\n",
    "    asteroid[\"first_column\"] = ephem.column[0]\n",
    "    asteroid[\"first_row\"] = ephem.row[0]\n",
    "    asteroid[\"last_day\"] = Time(ephem.index).jd[-1] - 2457000\n",
    "    asteroid[\"last_ccd\"] = ephem.ccd[-1]\n",
    "    asteroid[\"last_column\"]  = ephem.column[(num_of_days-1)]\n",
    "    asteroid[\"last_row\"]= ephem.row[(num_of_days-1)]\n",
    "    asteroid[\"max_pix_per_hour\"] = ephem.pixels_per_hour.max()\n",
    "    asteroid[\"min_Vmag\"] = ephem.vmag.min()\n",
    "    asteroid[\"mean_Vmag\"] = ephem.vmag.mean()\n",
    "    asteroid[\"max_Vmag\"] = ephem.vmag.max()\n",
    "    asteroid[\"min_phase_angle\"] = ephem.phase_angle.min()\n",
    "    asteroid[\"mean_phase_angle\"] = ephem.phase_angle.mean()\n",
    "    asteroid[\"max_phase_angle\"] = ephem.phase_angle.max()\n",
    "    asteroid[\"min_sun_distance\"] = ephem.sun_distance.min()\n",
    "    asteroid[\"mean_sun_distance\"] = ephem.sun_distance.mean()\n",
    "    asteroid[\"max_sun_distance\"] = ephem.sun_distance.max()\n",
    "    asteroid[\"min_tess_distance\"] = ephem.obs_distance.min()\n",
    "    asteroid[\"mean_tess_distance\"] = ephem.obs_distance.mean()\n",
    "    asteroid[\"max_tess_distance\"] = ephem.obs_distance.max()\n",
    "    \n",
    "    return asteroid"
   ]
  },
  {
   "cell_type": "markdown",
   "metadata": {},
   "source": [
    "there are two types of dataframes modified / created by this loop...\n",
    "\n",
    "the original asteroid list will have a column added for whether or not the object is seen by tess.  this data frame includes a row for every asteroid we query about.\n",
    "\n",
    "the output catalog will have an entry for each unique combination of asteroid, sector for every object seen by tess.  this data frame only has rows for objects seen by tess.\n",
    "\n",
    "In this implementation, I'm breaking up the input file into chunks because I keep having time outs as the network gets hinky.  This should simplify picking back up and piecing things back together without missing anything..."
   ]
  },
  {
   "cell_type": "code",
   "execution_count": 10,
   "metadata": {},
   "outputs": [],
   "source": [
    "false_list = []\n",
    "false_list.extend(repeat(False, num_asteroids))\n",
    "master_list[\"in_Tess\"] = false_list"
   ]
  },
  {
   "cell_type": "code",
   "execution_count": 11,
   "metadata": {},
   "outputs": [
    {
     "data": {
      "application/vnd.jupyter.widget-view+json": {
       "model_id": "757f9377ca6640dd870cb8fe76bce857",
       "version_major": 2,
       "version_minor": 0
      },
      "text/plain": [
       "chunk loop:   0%|          | 0/4 [00:00<?, ?it/s]"
      ]
     },
     "metadata": {},
     "output_type": "display_data"
    }
   ],
   "source": [
    "#master_list = asteroid_list.copy()\n",
    "\n",
    "size_of_chunks = 10000\n",
    "size_of_chunks = 30 #smaller size for testing\n",
    "num_of_chunks = math.ceil(num_asteroids / size_of_chunks)\n",
    "#num_of_chunks = num_of_chunks - 73  #this is for a restart\n",
    "start = 0\n",
    "#start = 730000 # this is for a restart\n",
    "end = start + size_of_chunks-1\n",
    "\n",
    "#on December 23, I've got a tess_ephem error that seems to be specific to 2004 QX2, which is idx=577686\n",
    "# let's try skipping that chunk and move on...\n",
    "# also errors out on 2011 UT which is idx=724800\n",
    "# also errorsout on 2019 AE3 which is idx=1004137\n",
    "\n",
    "for i in notebook.trange(num_of_chunks, desc=\"chunk loop\"):\n",
    "    asteroid_list = master_list[start:end].copy()\n",
    "    asteroid_catalog = []\n",
    "    \n",
    "    thiscatalog = \"catalog_\" + str(start) + \"_\" + str(end) + \".csv\"\n",
    "    thislist = \"list\" + str(start) + \"_\" + str(end) + \".csv\"\n",
    "\n",
    "    for idx, ad in asteroid_list.iterrows(): \n",
    "        try:\n",
    "            tt = ephem(str(ad[\"pdes\"]), verbose=True)\n",
    "        except:  #yes, this is hacky...  but sometimes the network just needs a minute to recover\n",
    "            sleep(60)\n",
    "            tt = ephem(str(ad[\"pdes\"]), verbose=True)\n",
    "        finally:\n",
    "            #print(asteroid[\"pdes\"], tt.shape[0])\n",
    "            if tt.shape[0] == 0:\n",
    "                continue\n",
    "            #ad[\"in_Tess\"] = True  #dunno why, but this doesn't modify the value in asteroid_list\n",
    "            asteroid_list.loc[idx,\"in_Tess\"] = True\n",
    "            #this_asteroid = ad.copy() #this works, but only if i use the ad[\"in_Tess\"] = True\n",
    "            this_asteroid = asteroid_list.loc[idx].copy()\n",
    "            this_asteroid[\"num_sectors\"] = tt.sector.nunique()\n",
    "            for sector in tt.sector.unique():\n",
    "                this_sector = tt.loc[tt[\"sector\"] == sector]\n",
    "                new_entry = make_catalog_entry(this_sector, this_asteroid.copy())\n",
    "                asteroid_catalog.append(new_entry)\n",
    "\n",
    "\n",
    "    asteroid_catalog = pd.DataFrame(asteroid_catalog)\n",
    "    asteroid_catalog.to_csv(thiscatalog, index=False)\n",
    "    asteroid_list.to_csv(thislist, index=False)\n",
    "    \n",
    "    start = end+1\n",
    "    end = start + size_of_chunks-1\n",
    "    if end > num_asteroids:\n",
    "        end = num_asteroids"
   ]
  },
  {
   "cell_type": "code",
   "execution_count": 14,
   "metadata": {},
   "outputs": [
    {
     "name": "stdout",
     "output_type": "stream",
     "text": [
      "now = 11:14:33.797702\n"
     ]
    }
   ],
   "source": [
    "# Want to see how long this all takes...\n",
    "now = datetime.now().time() # time object\n",
    "print(\"now =\", now)"
   ]
  },
  {
   "cell_type": "code",
   "execution_count": null,
   "metadata": {},
   "outputs": [],
   "source": []
  }
 ],
 "metadata": {
  "kernelspec": {
   "display_name": "Python 3",
   "language": "python",
   "name": "python3"
  },
  "language_info": {
   "codemirror_mode": {
    "name": "ipython",
    "version": 3
   },
   "file_extension": ".py",
   "mimetype": "text/x-python",
   "name": "python",
   "nbconvert_exporter": "python",
   "pygments_lexer": "ipython3",
   "version": "3.8.3"
  },
  "varInspector": {
   "cols": {
    "lenName": 16,
    "lenType": 16,
    "lenVar": 40
   },
   "kernels_config": {
    "python": {
     "delete_cmd_postfix": "",
     "delete_cmd_prefix": "del ",
     "library": "var_list.py",
     "varRefreshCmd": "print(var_dic_list())"
    },
    "r": {
     "delete_cmd_postfix": ") ",
     "delete_cmd_prefix": "rm(",
     "library": "var_list.r",
     "varRefreshCmd": "cat(var_dic_list()) "
    }
   },
   "types_to_exclude": [
    "module",
    "function",
    "builtin_function_or_method",
    "instance",
    "_Feature"
   ],
   "window_display": true
  }
 },
 "nbformat": 4,
 "nbformat_minor": 4
}
